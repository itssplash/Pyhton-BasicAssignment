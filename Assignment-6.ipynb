{
 "cells": [
  {
   "cell_type": "markdown",
   "id": "a776987a",
   "metadata": {},
   "source": [
    "1. What are escape characters, and how do you use them?\n",
    "2. What do the escape characters n and t stand for?\n",
    "3. What is the way to include backslash characters in a string?\n",
    "4. The string \"Howl's Moving Castle\" is a correct value. Why isn't the single quote character in the word Howl's not escaped a problem?\n",
    "5. How do you write a string of newlines if you don't want to use the n character?\n",
    "6. What are the values of the given expressions?\n",
    "'Hello, world!'[1]\n",
    "'Hello, world!'[0:5]\n",
    "'Hello, world!'[:5]\n",
    "'Hello, world!'[3:]\n",
    "\n",
    "7. What are the values of the following expressions?\n",
    "'Hello'.upper()\n",
    "'Hello'.upper().isupper()\n",
    "'Hello'.upper().lower()\n",
    "8. What are the values of the following expressions?\n",
    "'Remember, remember, the fifth of July.'.split()\n",
    "'-'.join('There can only one.'.split())\n",
    "9. What are the methods for right-justifying, left-justifying, and centering a string?\n",
    "10. What is the best way to remove whitespace characters from the start or end?"
   ]
  },
  {
   "cell_type": "markdown",
   "id": "6b851608",
   "metadata": {},
   "source": [
    "# 1. What are escape characters, and how do you use them?\n"
   ]
  },
  {
   "cell_type": "markdown",
   "id": "4f6c9d9f",
   "metadata": {},
   "source": [
    "An escape character is a backslash \\ followed by the character you want to insert.\n",
    "To insert characters that are illegal in a string"
   ]
  },
  {
   "cell_type": "code",
   "execution_count": 1,
   "id": "ad32bd01",
   "metadata": {},
   "outputs": [
    {
     "name": "stderr",
     "output_type": "stream",
     "text": [
      "<>:1: SyntaxWarning: \"is\" with a literal. Did you mean \"==\"?\n",
      "<>:1: SyntaxWarning: \"is\" with a literal. Did you mean \"==\"?\n",
      "C:\\Users\\abhin\\AppData\\Local\\Temp/ipykernel_17172/1165463013.py:1: SyntaxWarning: \"is\" with a literal. Did you mean \"==\"?\n",
      "  str = 'My name 'is' abhinav'\n"
     ]
    }
   ],
   "source": [
    "str = 'My name 'is' abhinav'"
   ]
  },
  {
   "cell_type": "code",
   "execution_count": 3,
   "id": "fbeb11b8",
   "metadata": {},
   "outputs": [],
   "source": [
    "str = 'My name \\'is\\' abhinav'"
   ]
  },
  {
   "cell_type": "markdown",
   "id": "5c61d252",
   "metadata": {},
   "source": [
    "# 2. What do the escape characters n and t stand for?"
   ]
  },
  {
   "cell_type": "markdown",
   "id": "196c5c88",
   "metadata": {},
   "source": [
    "\\n - stands for new line and \\t - stands for Horizontal tab"
   ]
  },
  {
   "cell_type": "markdown",
   "id": "9e9e6432",
   "metadata": {},
   "source": [
    "# 3. What is the way to include backslash characters in a string?\n"
   ]
  },
  {
   "cell_type": "markdown",
   "id": "acd43d0a",
   "metadata": {},
   "source": [
    "To insert characters that are illegal in a string, we can use an escape character. An escape character is a backslash \\ followed by the character you want to insert."
   ]
  },
  {
   "cell_type": "code",
   "execution_count": 12,
   "id": "7065120d",
   "metadata": {},
   "outputs": [],
   "source": [
    "str = 'My name \\'is\\' abhinav'"
   ]
  },
  {
   "cell_type": "markdown",
   "id": "ff87a529",
   "metadata": {},
   "source": [
    "# 4. The string \"Howl's Moving Castle\" is a correct value. Why isn't the single quote character in the word Howl's not escaped a problem?\n"
   ]
  },
  {
   "cell_type": "markdown",
   "id": "36051d58",
   "metadata": {},
   "source": [
    "The single quote in \"Howl's Moving Castle\" is fine because we have used double quotation marks at the start and begining"
   ]
  },
  {
   "cell_type": "markdown",
   "id": "b269c468",
   "metadata": {},
   "source": [
    "# 5. How do you write a string of newlines if you don't want to use the n character?\n"
   ]
  },
  {
   "cell_type": "code",
   "execution_count": 20,
   "id": "a9a8efa2",
   "metadata": {},
   "outputs": [],
   "source": [
    "s1 = \" Hi this \\n side Abhinav\""
   ]
  },
  {
   "cell_type": "code",
   "execution_count": 21,
   "id": "a37c53c5",
   "metadata": {},
   "outputs": [
    {
     "name": "stdout",
     "output_type": "stream",
     "text": [
      " Hi this \n",
      " side Abhinav\n"
     ]
    }
   ],
   "source": [
    "print(s1)"
   ]
  },
  {
   "cell_type": "markdown",
   "id": "db235c4e",
   "metadata": {},
   "source": [
    "# 6.What are the values of the given expressions?\n",
    "'Hello, world!'[1]\n",
    "'Hello, world!'[0:5]\n",
    "'Hello, world!'[:5]\n",
    "'Hello, world!'[3:]"
   ]
  },
  {
   "cell_type": "markdown",
   "id": "44995111",
   "metadata": {},
   "source": [
    "[1] will give 'e' , [0:5] will give 'Hello' , [:5] will give 'Hello' , [3:] will give 'lo, world!'"
   ]
  },
  {
   "cell_type": "code",
   "execution_count": 24,
   "id": "f5ea814a",
   "metadata": {},
   "outputs": [
    {
     "data": {
      "text/plain": [
       "'e'"
      ]
     },
     "execution_count": 24,
     "metadata": {},
     "output_type": "execute_result"
    }
   ],
   "source": [
    "s = 'Hello, World!'\n",
    "s[1]"
   ]
  },
  {
   "cell_type": "code",
   "execution_count": 26,
   "id": "03f350b8",
   "metadata": {},
   "outputs": [
    {
     "data": {
      "text/plain": [
       "'Hello'"
      ]
     },
     "execution_count": 26,
     "metadata": {},
     "output_type": "execute_result"
    }
   ],
   "source": [
    "s[0:5]"
   ]
  },
  {
   "cell_type": "code",
   "execution_count": 29,
   "id": "9694846e",
   "metadata": {},
   "outputs": [
    {
     "data": {
      "text/plain": [
       "'Hello'"
      ]
     },
     "execution_count": 29,
     "metadata": {},
     "output_type": "execute_result"
    }
   ],
   "source": [
    "s[:5]"
   ]
  },
  {
   "cell_type": "code",
   "execution_count": 28,
   "id": "2b67339e",
   "metadata": {},
   "outputs": [
    {
     "data": {
      "text/plain": [
       "'lo, World!'"
      ]
     },
     "execution_count": 28,
     "metadata": {},
     "output_type": "execute_result"
    }
   ],
   "source": [
    "s[3:]"
   ]
  },
  {
   "cell_type": "markdown",
   "id": "756ca251",
   "metadata": {},
   "source": [
    "# 7. What are the values of the following expressions?\n",
    "'Hello'.upper()\n",
    "'Hello'.upper().isupper()\n",
    "'Hello'.upper().lower()"
   ]
  },
  {
   "cell_type": "markdown",
   "id": "04fbe373",
   "metadata": {},
   "source": [
    "Ans\n",
    "'HELLO'\n",
    "True\n",
    "'hello'"
   ]
  },
  {
   "cell_type": "code",
   "execution_count": 31,
   "id": "d4f37910",
   "metadata": {},
   "outputs": [
    {
     "data": {
      "text/plain": [
       "'HELLO'"
      ]
     },
     "execution_count": 31,
     "metadata": {},
     "output_type": "execute_result"
    }
   ],
   "source": [
    "'Hello'.upper() "
   ]
  },
  {
   "cell_type": "code",
   "execution_count": 32,
   "id": "ca6df341",
   "metadata": {},
   "outputs": [
    {
     "data": {
      "text/plain": [
       "True"
      ]
     },
     "execution_count": 32,
     "metadata": {},
     "output_type": "execute_result"
    }
   ],
   "source": [
    "'Hello'.upper().isupper()"
   ]
  },
  {
   "cell_type": "code",
   "execution_count": 33,
   "id": "a4be94f7",
   "metadata": {},
   "outputs": [
    {
     "data": {
      "text/plain": [
       "'hello'"
      ]
     },
     "execution_count": 33,
     "metadata": {},
     "output_type": "execute_result"
    }
   ],
   "source": [
    "'Hello'.upper().lower()"
   ]
  },
  {
   "cell_type": "markdown",
   "id": "41f21faa",
   "metadata": {},
   "source": [
    "# 8. What are the values of the following expressions?\n",
    "'Remember, remember, the fifth of November.'.split()'-'.join('There can be only one.'.split())"
   ]
  },
  {
   "cell_type": "code",
   "execution_count": 53,
   "id": "226f446e",
   "metadata": {},
   "outputs": [
    {
     "data": {
      "text/plain": [
       "['Remember,', 'remember,', 'the', 'fifth', 'of', 'November.']"
      ]
     },
     "execution_count": 53,
     "metadata": {},
     "output_type": "execute_result"
    }
   ],
   "source": [
    "'Remember, remember, the fifth of November.'.split()"
   ]
  },
  {
   "cell_type": "markdown",
   "id": "4741d183",
   "metadata": {},
   "source": [
    "# '-'.join('There can be only one.'.split())"
   ]
  },
  {
   "cell_type": "markdown",
   "id": "1e25bc4b",
   "metadata": {},
   "source": [
    "# 9. What are the methods for right-justifying, left-justifying, and centering a string?\n"
   ]
  },
  {
   "cell_type": "code",
   "execution_count": 63,
   "id": "0805c4c3",
   "metadata": {},
   "outputs": [],
   "source": [
    "s3 = 'abhinav'"
   ]
  },
  {
   "cell_type": "code",
   "execution_count": 66,
   "id": "9130676f",
   "metadata": {},
   "outputs": [
    {
     "data": {
      "text/plain": [
       "'                                           abhinav'"
      ]
     },
     "execution_count": 66,
     "metadata": {},
     "output_type": "execute_result"
    }
   ],
   "source": [
    "s3.rjust(50)"
   ]
  },
  {
   "cell_type": "code",
   "execution_count": 67,
   "id": "bc1a306a",
   "metadata": {},
   "outputs": [
    {
     "data": {
      "text/plain": [
       "'abhinav                                           '"
      ]
     },
     "execution_count": 67,
     "metadata": {},
     "output_type": "execute_result"
    }
   ],
   "source": [
    "s3.ljust(50)"
   ]
  },
  {
   "cell_type": "code",
   "execution_count": 68,
   "id": "0ef842eb",
   "metadata": {},
   "outputs": [
    {
     "data": {
      "text/plain": [
       "'      abhinav       '"
      ]
     },
     "execution_count": 68,
     "metadata": {},
     "output_type": "execute_result"
    }
   ],
   "source": [
    "s3.center(20)"
   ]
  },
  {
   "cell_type": "markdown",
   "id": "5917492d",
   "metadata": {},
   "source": [
    "# 10. What is the best way to remove whitespace characters from the start or end?"
   ]
  },
  {
   "cell_type": "markdown",
   "id": "5f76c81b",
   "metadata": {},
   "source": [
    "We can use lstrip() and rstrip()"
   ]
  },
  {
   "cell_type": "code",
   "execution_count": 69,
   "id": "bc3f703a",
   "metadata": {},
   "outputs": [],
   "source": [
    "s = '    ineuron   '"
   ]
  },
  {
   "cell_type": "code",
   "execution_count": 70,
   "id": "7c40fb20",
   "metadata": {},
   "outputs": [
    {
     "data": {
      "text/plain": [
       "'ineuron   '"
      ]
     },
     "execution_count": 70,
     "metadata": {},
     "output_type": "execute_result"
    }
   ],
   "source": [
    "s.lstrip()"
   ]
  },
  {
   "cell_type": "code",
   "execution_count": 71,
   "id": "5b5b08e1",
   "metadata": {},
   "outputs": [
    {
     "data": {
      "text/plain": [
       "'    ineuron'"
      ]
     },
     "execution_count": 71,
     "metadata": {},
     "output_type": "execute_result"
    }
   ],
   "source": [
    "s.rstrip()"
   ]
  },
  {
   "cell_type": "code",
   "execution_count": null,
   "id": "1167d895",
   "metadata": {},
   "outputs": [],
   "source": []
  }
 ],
 "metadata": {
  "kernelspec": {
   "display_name": "Python 3 (ipykernel)",
   "language": "python",
   "name": "python3"
  },
  "language_info": {
   "codemirror_mode": {
    "name": "ipython",
    "version": 3
   },
   "file_extension": ".py",
   "mimetype": "text/x-python",
   "name": "python",
   "nbconvert_exporter": "python",
   "pygments_lexer": "ipython3",
   "version": "3.9.7"
  }
 },
 "nbformat": 4,
 "nbformat_minor": 5
}
