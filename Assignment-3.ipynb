{
 "cells": [
  {
   "cell_type": "markdown",
   "id": "7e1f1783",
   "metadata": {},
   "source": [
    "# 1. Why are functions advantageous to have in your programs?"
   ]
  },
  {
   "cell_type": "markdown",
   "id": "a93100fa",
   "metadata": {},
   "source": [
    "Functions are advantageous , as they can decrease our time in writing the same code again . We can create one sum() fucntion , and call it anywhere we need it instead of writing the same code again and again\n",
    "Decomposing complex problems into simpler pieces.\n",
    "Reuse of same code\n",
    "Improving the clarity of code"
   ]
  },
  {
   "cell_type": "markdown",
   "id": "70529da0",
   "metadata": {},
   "source": [
    "# 2. When does the code in a function run: when it's specified or when it's called?"
   ]
  },
  {
   "cell_type": "markdown",
   "id": "357167cf",
   "metadata": {},
   "source": [
    "The code in a fucntion run , when the function is called"
   ]
  },
  {
   "cell_type": "markdown",
   "id": "c04d3c69",
   "metadata": {},
   "source": [
    "# 3. What statement creates a function?"
   ]
  },
  {
   "cell_type": "code",
   "execution_count": 4,
   "id": "89e84571",
   "metadata": {},
   "outputs": [],
   "source": [
    "\n",
    "def sum():\n",
    "    \"\"\"Function blocks begin with the keyword def followed by the function name and parentheses ( ( ) ).\n",
    "\"\"\"\n",
    "    a = 10\n",
    "    b = 10\n",
    "    print(a+b)"
   ]
  },
  {
   "cell_type": "code",
   "execution_count": 3,
   "id": "f46c28fa",
   "metadata": {},
   "outputs": [
    {
     "name": "stdout",
     "output_type": "stream",
     "text": [
      "20\n"
     ]
    }
   ],
   "source": [
    "sum()"
   ]
  },
  {
   "cell_type": "markdown",
   "id": "3018fee7",
   "metadata": {},
   "source": [
    "# 4. What is the difference between a function and a function call?"
   ]
  },
  {
   "cell_type": "markdown",
   "id": "89bd1f58",
   "metadata": {},
   "source": [
    "A function is a block of code that does a particular operation and returns a result. It usually accepts inputs as parameters and returns a result. The parameters are not mandatory.\n",
    "\n",
    "Function add(a,b)\n",
    "return a+ b\n",
    "\n",
    "A function call is the code used to pass control to a function.\n",
    "\n",
    "b = add(5,6)\n",
    "\n",
    "Now b will have the value 11."
   ]
  },
  {
   "cell_type": "markdown",
   "id": "bf480ba7",
   "metadata": {},
   "source": [
    "# 5. How many global scopes are there in a Python program? How many local scopes?"
   ]
  },
  {
   "cell_type": "markdown",
   "id": "c16dd07b",
   "metadata": {},
   "source": [
    "There is one global scope, and a local scope is created whenever a function is called. A variable created inside a function belongs to the local scope of that function, and can only be used inside that function whereas A variable created in the main body of the Python code is a global variable and belongs to the global scope.\n",
    "LEGB (Local -> Enclosing -> Global -> Built-in) is the logic followed by a Python interpreter when it is executing your program."
   ]
  },
  {
   "cell_type": "code",
   "execution_count": 5,
   "id": "ee0ed43e",
   "metadata": {},
   "outputs": [],
   "source": [
    "# a is local variable\n",
    "def add():\n",
    "    a=10\n",
    "    summ = a+10\n",
    "    print(summ)"
   ]
  },
  {
   "cell_type": "code",
   "execution_count": null,
   "id": "8cfd1bdc",
   "metadata": {},
   "outputs": [],
   "source": [
    "# b is a local variable\n",
    "a=10\n",
    "def add():\n",
    "    summ = a+10\n",
    "    print(summ)"
   ]
  },
  {
   "cell_type": "markdown",
   "id": "8d7a514f",
   "metadata": {},
   "source": [
    "# 6. What happens to variables in a local scope when the function call returns?"
   ]
  },
  {
   "cell_type": "markdown",
   "id": "82054f92",
   "metadata": {},
   "source": [
    "When a function returns, the local scope is destroyed, and all the variables in it are forgotten. A local variable becomes undefined after the function call completes"
   ]
  },
  {
   "cell_type": "markdown",
   "id": "df8e9ed4",
   "metadata": {},
   "source": [
    "# 7. What is the concept of a return value? Is it possible to have a return value in an expression?"
   ]
  },
  {
   "cell_type": "markdown",
   "id": "90f243c1",
   "metadata": {},
   "source": [
    "The return value is used in a function/Expression to return the output from the execution of the code , Yes return value can be used as an part of expression"
   ]
  },
  {
   "cell_type": "code",
   "execution_count": 15,
   "id": "a0042206",
   "metadata": {},
   "outputs": [],
   "source": [
    "def div(a,b):\n",
    "    return a/b"
   ]
  },
  {
   "cell_type": "code",
   "execution_count": 16,
   "id": "c3848923",
   "metadata": {},
   "outputs": [
    {
     "data": {
      "text/plain": [
       "10.0"
      ]
     },
     "execution_count": 16,
     "metadata": {},
     "output_type": "execute_result"
    }
   ],
   "source": [
    "div(10,1)"
   ]
  },
  {
   "cell_type": "markdown",
   "id": "d1ea90aa",
   "metadata": {},
   "source": [
    "# 8. If a function does not have a return statement, what is the return value of a call to that function?"
   ]
  },
  {
   "cell_type": "markdown",
   "id": "ec92d041",
   "metadata": {},
   "source": [
    "If there is no return statement for a function, its return value is None. The function always returns None if explicit return is not written."
   ]
  },
  {
   "cell_type": "markdown",
   "id": "beaf9dbf",
   "metadata": {},
   "source": [
    "# 9. How do you make a function variable refer to the global variable?\n"
   ]
  },
  {
   "cell_type": "markdown",
   "id": "ec39c1b8",
   "metadata": {},
   "source": [
    "A global statement will force a variable in a function to refer to the global variable. If you want to refer to a global variable in a function, you can use the global keyword to declare which variables are global."
   ]
  },
  {
   "cell_type": "markdown",
   "id": "79fcc9a0",
   "metadata": {},
   "source": [
    "# 10. What is the data type of None? "
   ]
  },
  {
   "cell_type": "code",
   "execution_count": 17,
   "id": "97d1fbc8",
   "metadata": {},
   "outputs": [
    {
     "data": {
      "text/plain": [
       "NoneType"
      ]
     },
     "execution_count": 17,
     "metadata": {},
     "output_type": "execute_result"
    }
   ],
   "source": [
    "type(None)"
   ]
  },
  {
   "cell_type": "markdown",
   "id": "39dda803",
   "metadata": {},
   "source": [
    "# 11.What does the sentence import areallyourpetsnamederic do?"
   ]
  },
  {
   "cell_type": "code",
   "execution_count": 19,
   "id": "30e10cab",
   "metadata": {},
   "outputs": [
    {
     "ename": "ModuleNotFoundError",
     "evalue": "No module named 'areallyourpetsnamederic'",
     "output_type": "error",
     "traceback": [
      "\u001b[1;31m---------------------------------------------------------------------------\u001b[0m",
      "\u001b[1;31mModuleNotFoundError\u001b[0m                       Traceback (most recent call last)",
      "\u001b[1;32m~\\AppData\\Local\\Temp/ipykernel_10484/51184242.py\u001b[0m in \u001b[0;36m<module>\u001b[1;34m\u001b[0m\n\u001b[1;32m----> 1\u001b[1;33m \u001b[1;32mimport\u001b[0m \u001b[0mareallyourpetsnamederic\u001b[0m\u001b[1;33m\u001b[0m\u001b[1;33m\u001b[0m\u001b[0m\n\u001b[0m",
      "\u001b[1;31mModuleNotFoundError\u001b[0m: No module named 'areallyourpetsnamederic'"
     ]
    }
   ],
   "source": [
    "import areallyourpetsnamederic"
   ]
  },
  {
   "cell_type": "markdown",
   "id": "a1059142",
   "metadata": {},
   "source": [
    "# 12. If you had a bacon() feature in a spam module, what would you call it after importing spam?"
   ]
  },
  {
   "cell_type": "markdown",
   "id": "fe2c0090",
   "metadata": {},
   "source": [
    "spam.bacon()"
   ]
  },
  {
   "cell_type": "markdown",
   "id": "209ac556",
   "metadata": {},
   "source": [
    "# 13. What can you do to save a programme from crashing if it encounters an error?"
   ]
  },
  {
   "cell_type": "markdown",
   "id": "b1d9e005",
   "metadata": {},
   "source": [
    "We can place the line of code that might cause an error in a try clause and use except block to handle the error"
   ]
  },
  {
   "cell_type": "markdown",
   "id": "6b652605",
   "metadata": {},
   "source": [
    "# 14. What is the purpose of the try clause? What is the purpose of the except clause? "
   ]
  },
  {
   "cell_type": "markdown",
   "id": "32335c1c",
   "metadata": {},
   "source": [
    "The try block allows you to test a block of code for errors. The except block enables you to handle the error with a user-defined response"
   ]
  },
  {
   "cell_type": "code",
   "execution_count": 33,
   "id": "dbefa4c7",
   "metadata": {},
   "outputs": [
    {
     "name": "stdout",
     "output_type": "stream",
     "text": [
      "Error returned\n"
     ]
    }
   ],
   "source": [
    "try:\n",
    "    print(ourVariable)\n",
    "except:\n",
    "    print('Error returned')"
   ]
  },
  {
   "cell_type": "code",
   "execution_count": 34,
   "id": "81b2b0f0",
   "metadata": {},
   "outputs": [
    {
     "name": "stdout",
     "output_type": "stream",
     "text": [
      "ourVariable is not defined\n"
     ]
    }
   ],
   "source": [
    "try:\n",
    "    print(ourVariable)\n",
    "except NameError:\n",
    "    print('ourVariable is not defined')\n",
    "except:\n",
    "    print('Error returned')"
   ]
  },
  {
   "cell_type": "code",
   "execution_count": null,
   "id": "264926e0",
   "metadata": {},
   "outputs": [],
   "source": []
  }
 ],
 "metadata": {
  "kernelspec": {
   "display_name": "Python 3 (ipykernel)",
   "language": "python",
   "name": "python3"
  },
  "language_info": {
   "codemirror_mode": {
    "name": "ipython",
    "version": 3
   },
   "file_extension": ".py",
   "mimetype": "text/x-python",
   "name": "python",
   "nbconvert_exporter": "python",
   "pygments_lexer": "ipython3",
   "version": "3.9.7"
  }
 },
 "nbformat": 4,
 "nbformat_minor": 5
}
