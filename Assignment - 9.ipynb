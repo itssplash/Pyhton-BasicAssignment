{
 "cells": [
  {
   "cell_type": "markdown",
   "id": "9b62c7c2",
   "metadata": {},
   "source": [
    "1. To what does a relative path refer?\n",
    "2. What does an absolute path start with your operating system?\n",
    "3. What do the functions os.getcwd() and os.chdir() do?\n",
    "4. What are the . and .. folders?\n",
    "5. In C:\\bacon\\eggs\\spam.txt, which part is the dir name, and which part is the base name?\n",
    "6. What are the three “mode” arguments that can be passed to the open() function?\n",
    "7. What happens if an existing file is opened in write mode?\n",
    "8. How do you tell the difference between read() and readlines()?\n",
    "9. What data structure does a shelf value resemble?"
   ]
  },
  {
   "cell_type": "markdown",
   "id": "5ceda792",
   "metadata": {},
   "source": [
    "# 1. To what does a relative path refer?\n"
   ]
  },
  {
   "cell_type": "markdown",
   "id": "1d841541",
   "metadata": {},
   "source": [
    "A relative file path is interpreted from the perspective your current working directory."
   ]
  },
  {
   "cell_type": "code",
   "execution_count": 2,
   "id": "5a2307c2",
   "metadata": {},
   "outputs": [],
   "source": [
    "import os"
   ]
  },
  {
   "cell_type": "code",
   "execution_count": 7,
   "id": "a25c2538",
   "metadata": {},
   "outputs": [
    {
     "data": {
      "text/plain": [
       "'C:\\\\Users\\\\abhin'"
      ]
     },
     "execution_count": 7,
     "metadata": {},
     "output_type": "execute_result"
    }
   ],
   "source": [
    "os.getcwd()"
   ]
  },
  {
   "cell_type": "markdown",
   "id": "81853e6d",
   "metadata": {},
   "source": [
    "# 2. What does an absolute path start with your operating system?\n"
   ]
  },
  {
   "cell_type": "markdown",
   "id": "1ef330bd",
   "metadata": {},
   "source": [
    "An absolute path is a path that contains the entire path to the file or directory that you need to access. This path will begin at the home directory of your computer and will end with the file or directory that you wish to access."
   ]
  },
  {
   "cell_type": "markdown",
   "id": "72a46b62",
   "metadata": {},
   "source": [
    "# 3. What do the functions os.getcwd() and os.chdir() do?\n"
   ]
  },
  {
   "cell_type": "code",
   "execution_count": 9,
   "id": "5241429f",
   "metadata": {},
   "outputs": [
    {
     "data": {
      "text/plain": [
       "'C:\\\\Users\\\\abhin'"
      ]
     },
     "execution_count": 9,
     "metadata": {},
     "output_type": "execute_result"
    }
   ],
   "source": [
    "os.getcwd()\n",
    "# It give us the current directory"
   ]
  },
  {
   "cell_type": "code",
   "execution_count": 12,
   "id": "825fdefd",
   "metadata": {},
   "outputs": [],
   "source": [
    "os.chdir('C:\\\\Users')\n",
    "# It is used to change the current directory"
   ]
  },
  {
   "cell_type": "code",
   "execution_count": 13,
   "id": "8fa7eb88",
   "metadata": {},
   "outputs": [
    {
     "data": {
      "text/plain": [
       "'C:\\\\Users'"
      ]
     },
     "execution_count": 13,
     "metadata": {},
     "output_type": "execute_result"
    }
   ],
   "source": [
    "os.getcwd()"
   ]
  },
  {
   "cell_type": "code",
   "execution_count": 15,
   "id": "9f447ac4",
   "metadata": {},
   "outputs": [],
   "source": [
    "os.chdir('C:\\\\Users\\\\abhin')\n",
    "# Changing back to default directory"
   ]
  },
  {
   "cell_type": "code",
   "execution_count": 16,
   "id": "44131e0d",
   "metadata": {},
   "outputs": [
    {
     "data": {
      "text/plain": [
       "'C:\\\\Users\\\\abhin'"
      ]
     },
     "execution_count": 16,
     "metadata": {},
     "output_type": "execute_result"
    }
   ],
   "source": [
    "os.getcwd()"
   ]
  },
  {
   "cell_type": "markdown",
   "id": "e8354e7c",
   "metadata": {},
   "source": [
    "# 4. What are the . and .. folders?\n"
   ]
  },
  {
   "cell_type": "markdown",
   "id": "72a15b21",
   "metadata": {},
   "source": [
    ". Represents the Current Directory Whereas .. Represents the Parent Directory of the Current Directory\n",
    "For Example: if the below path is my absolute path:\n",
    "'C:\\\\Users\\\\abhin'\n",
    "Then . represents the path 'C:\\\\Users\\\\abhin'\n",
    "Where as .. represents the path 'C:\\\\Users'"
   ]
  },
  {
   "cell_type": "markdown",
   "id": "27a5531b",
   "metadata": {},
   "source": [
    "# 5. In C:\\bacon\\eggs\\spam.txt, which part is the dir name, and which part is the base name?\n"
   ]
  },
  {
   "cell_type": "markdown",
   "id": "1b8035cd",
   "metadata": {},
   "source": [
    "For 'C:\\bacon\\eggs\\spam.txt'\n",
    "The dir name is 'C:\\\\bacon\\\\eggs'\n",
    "The Base name is 'spam.txt'"
   ]
  },
  {
   "cell_type": "markdown",
   "id": "36809b51",
   "metadata": {},
   "source": [
    "# 6. What are the three “mode” arguments that can be passed to the open() function?\n"
   ]
  },
  {
   "cell_type": "markdown",
   "id": "cd921e78",
   "metadata": {},
   "source": [
    "open() takes 2 arguments - file name and mode of file\n",
    "Modes of file can be\n",
    "'r'       open for reading (default)\n",
    "'w'       open for writing, truncating the file first\n",
    "'x'       create a new file and open it for writing\n",
    "'a'       open for writing, appending to the end of the file if it exists\n",
    "'b'       binary mode\n",
    "'t'       text mode (default)\n",
    "'+'       open a disk file for updating (reading and writing)\n",
    "'U'       universal newline mode (deprecated)"
   ]
  },
  {
   "cell_type": "markdown",
   "id": "445d49c8",
   "metadata": {},
   "source": [
    "# 7. What happens if an existing file is opened in write mode?\n"
   ]
  },
  {
   "cell_type": "markdown",
   "id": "f94f1b68",
   "metadata": {},
   "source": [
    "If an exisiting file is opened in write mode , the present data in that file will be overwritten by the new data , see the below example:\n"
   ]
  },
  {
   "cell_type": "code",
   "execution_count": 34,
   "id": "0a7072f5",
   "metadata": {},
   "outputs": [],
   "source": [
    "f = open('test3.txt','r')"
   ]
  },
  {
   "cell_type": "code",
   "execution_count": 35,
   "id": "d6508175",
   "metadata": {},
   "outputs": [
    {
     "data": {
      "text/plain": [
       "'wefrg ewrfgatsh ewragetsghairgh oh4eaigh ioh\\nioh 5eioghiuwg3ui ghaei rhgujrhhoirhivnr'"
      ]
     },
     "execution_count": 35,
     "metadata": {},
     "output_type": "execute_result"
    }
   ],
   "source": [
    "f.read()"
   ]
  },
  {
   "cell_type": "code",
   "execution_count": 36,
   "id": "071f8005",
   "metadata": {},
   "outputs": [],
   "source": [
    "f.close()"
   ]
  },
  {
   "cell_type": "code",
   "execution_count": 37,
   "id": "a82d1f89",
   "metadata": {},
   "outputs": [],
   "source": [
    "f = open('test3.txt','w')"
   ]
  },
  {
   "cell_type": "code",
   "execution_count": 38,
   "id": "4a0c0411",
   "metadata": {},
   "outputs": [
    {
     "data": {
      "text/plain": [
       "21"
      ]
     },
     "execution_count": 38,
     "metadata": {},
     "output_type": "execute_result"
    }
   ],
   "source": [
    "f.write('Hi i this is new Data')"
   ]
  },
  {
   "cell_type": "code",
   "execution_count": 39,
   "id": "3c0ec88d",
   "metadata": {},
   "outputs": [],
   "source": [
    "f.close()"
   ]
  },
  {
   "cell_type": "code",
   "execution_count": 40,
   "id": "524f81ba",
   "metadata": {},
   "outputs": [],
   "source": [
    "f = open('test3.txt','r')"
   ]
  },
  {
   "cell_type": "code",
   "execution_count": 41,
   "id": "74cfde0e",
   "metadata": {},
   "outputs": [
    {
     "data": {
      "text/plain": [
       "'Hi i this is new Data'"
      ]
     },
     "execution_count": 41,
     "metadata": {},
     "output_type": "execute_result"
    }
   ],
   "source": [
    "f.read()"
   ]
  },
  {
   "cell_type": "markdown",
   "id": "73a193a6",
   "metadata": {},
   "source": [
    "# 8. How do you tell the difference between read() and readlines()?\n"
   ]
  },
  {
   "cell_type": "markdown",
   "id": "d760dfdf",
   "metadata": {},
   "source": [
    "read()- reads all the data in one line even if there are different paragraphs/new lines\n",
    "readlines() - reads the data line by line\n",
    "See below example"
   ]
  },
  {
   "cell_type": "code",
   "execution_count": 74,
   "id": "87edc065",
   "metadata": {},
   "outputs": [],
   "source": [
    "f = open('read.txt','w')"
   ]
  },
  {
   "cell_type": "code",
   "execution_count": 76,
   "id": "5ae94ad1",
   "metadata": {},
   "outputs": [
    {
     "data": {
      "text/plain": [
       "67"
      ]
     },
     "execution_count": 76,
     "metadata": {},
     "output_type": "execute_result"
    }
   ],
   "source": [
    "f.write(\"srtdgjvhrk\\nuighiae\\nhrighairgh oh4eaigh ioh\\nioh 5eioghiuwg3ui ghaei \")"
   ]
  },
  {
   "cell_type": "code",
   "execution_count": 77,
   "id": "cd014a85",
   "metadata": {},
   "outputs": [],
   "source": [
    "f.close()"
   ]
  },
  {
   "cell_type": "code",
   "execution_count": 78,
   "id": "8eaff609",
   "metadata": {},
   "outputs": [],
   "source": [
    "f = open('read.txt','r')"
   ]
  },
  {
   "cell_type": "markdown",
   "id": "50b8737f",
   "metadata": {},
   "source": [
    "f.seek(0)"
   ]
  },
  {
   "cell_type": "code",
   "execution_count": 80,
   "id": "9ce297e2",
   "metadata": {},
   "outputs": [
    {
     "data": {
      "text/plain": [
       "'srtdgjvhrk\\nuighiae\\nhrighairgh oh4eaigh ioh\\nioh 5eioghiuwg3ui ghaei '"
      ]
     },
     "execution_count": 80,
     "metadata": {},
     "output_type": "execute_result"
    }
   ],
   "source": [
    "f.read()"
   ]
  },
  {
   "cell_type": "code",
   "execution_count": 81,
   "id": "cb74c721",
   "metadata": {},
   "outputs": [
    {
     "data": {
      "text/plain": [
       "0"
      ]
     },
     "execution_count": 81,
     "metadata": {},
     "output_type": "execute_result"
    }
   ],
   "source": [
    "f.seek(0)"
   ]
  },
  {
   "cell_type": "code",
   "execution_count": 82,
   "id": "27262c60",
   "metadata": {},
   "outputs": [
    {
     "data": {
      "text/plain": [
       "['srtdgjvhrk\\n',\n",
       " 'uighiae\\n',\n",
       " 'hrighairgh oh4eaigh ioh\\n',\n",
       " 'ioh 5eioghiuwg3ui ghaei ']"
      ]
     },
     "execution_count": 82,
     "metadata": {},
     "output_type": "execute_result"
    }
   ],
   "source": [
    "f.readlines()"
   ]
  },
  {
   "cell_type": "markdown",
   "id": "2c00b992",
   "metadata": {},
   "source": [
    "# 9. What data structure does a shelf value resemble?"
   ]
  },
  {
   "cell_type": "markdown",
   "id": "e5ae199a",
   "metadata": {},
   "source": [
    "A shelf value resembles a dictionary value; it has keys and values, along with keys() and values() methods that work similarly to the dictionary methods of the same names."
   ]
  },
  {
   "cell_type": "code",
   "execution_count": null,
   "id": "db3deb83",
   "metadata": {},
   "outputs": [],
   "source": []
  }
 ],
 "metadata": {
  "kernelspec": {
   "display_name": "Python 3 (ipykernel)",
   "language": "python",
   "name": "python3"
  },
  "language_info": {
   "codemirror_mode": {
    "name": "ipython",
    "version": 3
   },
   "file_extension": ".py",
   "mimetype": "text/x-python",
   "name": "python",
   "nbconvert_exporter": "python",
   "pygments_lexer": "ipython3",
   "version": "3.9.7"
  }
 },
 "nbformat": 4,
 "nbformat_minor": 5
}
